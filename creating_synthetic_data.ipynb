{
 "cells": [
  {
   "cell_type": "markdown",
   "metadata": {},
   "source": [
    "# Machine Learning with Scikit-learn\n",
    "\n",
    "\n",
    "## Creating Synthetic Data"
   ]
  },
  {
   "cell_type": "markdown",
   "metadata": {},
   "source": [
    "### Supporting Documentation\n",
    "\n",
    "> [scikit-learn: datasets api](http://scikit-learn.org/stable/modules/classes.html#module-sklearn.datasets)\n",
    "\n",
    "> [scikit-learn: dataset utilities](http://scikit-learn.org/stable/datasets/index.html#datasets)\n",
    "\n",
    "> [matplotlib: pyplot](http://matplotlib.org/api/pyplot_api.html)\n",
    "\n",
    "> [make_classification()](http://scikit-learn.org/stable/modules/generated/sklearn.datasets.make_classification.html#sklearn.datasets.make_classification)\n",
    "\n",
    "> [make_blobs()](http://scikit-learn.org/stable/modules/generated/sklearn.datasets.make_blobs.html#sklearn.datasets.make_blobs)\n",
    "\n",
    "> [make_regression()](http://scikit-learn.org/stable/modules/generated/sklearn.datasets.make_regression.html#sklearn.datasets.make_regression)\n"
   ]
  },
  {
   "cell_type": "code",
   "execution_count": 3,
   "metadata": {
    "collapsed": false
   },
   "outputs": [
    {
     "name": "stdout",
     "output_type": "stream",
     "text": [
      "python: 2.7.12 |Anaconda 2.4.1 (64-bit)| (default, Jul  2 2016, 17:42:40) \n",
      "[GCC 4.4.7 20120313 (Red Hat 4.4.7-1)]\n",
      "numpy: 1.11.2\n",
      "matplotlib: 1.5.1\n",
      "scikit-learn: 0.18.1\n"
     ]
    }
   ],
   "source": [
    "import sys\n",
    "import numpy as np\n",
    "import sklearn \n",
    "from sklearn import datasets\n",
    "import matplotlib as matplotlib\n",
    "import matplotlib.pyplot as plt\n",
    "\n",
    "print \"python:\", sys.version \n",
    "print \"numpy:\", np.__version__\n",
    "print \"matplotlib:\", matplotlib.__version__\n",
    "print \"scikit-learn:\", sklearn.__version__"
   ]
  },
  {
   "cell_type": "code",
   "execution_count": 4,
   "metadata": {
    "collapsed": false
   },
   "outputs": [],
   "source": [
    "# allow inline plotting\n",
    "%matplotlib inline  "
   ]
  },
  {
   "cell_type": "markdown",
   "metadata": {},
   "source": [
    "### Create Classification Dataset (supervised classification)"
   ]
  },
  {
   "cell_type": "code",
   "execution_count": 5,
   "metadata": {
    "collapsed": false
   },
   "outputs": [],
   "source": [
    "# create classification dataset as tuple (double array)\n",
    "x = datasets.make_classification(\n",
    "    n_samples=50, \n",
    "    n_features=2,\n",
    "    n_classes=2,\n",
    "    n_clusters_per_class=2,\n",
    "    n_informative=2, \n",
    "    n_redundant=0,\n",
    "    random_state=6)"
   ]
  },
  {
   "cell_type": "code",
   "execution_count": 6,
   "metadata": {
    "collapsed": false
   },
   "outputs": [
    {
     "name": "stdout",
     "output_type": "stream",
     "text": [
      "<type 'tuple'>\n",
      "<type 'numpy.ndarray'>\n",
      "<type 'numpy.ndarray'>\n"
     ]
    }
   ],
   "source": [
    "# object types of dataset\n",
    "print type(x)\n",
    "print type(x[0])\n",
    "print type(x[1])"
   ]
  },
  {
   "cell_type": "code",
   "execution_count": 7,
   "metadata": {
    "collapsed": false
   },
   "outputs": [
    {
     "data": {
      "text/plain": [
       "array([[ 1.05514541,  0.31071535],\n",
       "       [-0.78738232,  0.16983718],\n",
       "       [ 0.68687892,  1.94116398],\n",
       "       [ 1.21494019, -1.48642746],\n",
       "       [-1.46691727,  0.3105259 ],\n",
       "       [-2.23156007,  0.1368863 ],\n",
       "       [ 0.91208998, -1.89292213],\n",
       "       [ 0.38965236,  0.02799635],\n",
       "       [ 1.1450313 , -1.99864078],\n",
       "       [ 0.28644451, -0.2461199 ]])"
      ]
     },
     "execution_count": 7,
     "metadata": {},
     "output_type": "execute_result"
    }
   ],
   "source": [
    "# features array\n",
    "x[0][:10]"
   ]
  },
  {
   "cell_type": "code",
   "execution_count": 8,
   "metadata": {
    "collapsed": false
   },
   "outputs": [
    {
     "data": {
      "text/plain": [
       "array([1, 1, 1, 1, 0, 0, 1, 1, 1, 1, 1, 0, 0, 0, 0, 0, 1, 1, 1, 1, 1, 1, 1,\n",
       "       1, 1, 0, 0, 0, 0, 0, 0, 0, 0, 0, 0, 1, 0, 1, 0, 0, 1, 0, 0, 0, 0, 1,\n",
       "       1, 1, 0, 1])"
      ]
     },
     "execution_count": 8,
     "metadata": {},
     "output_type": "execute_result"
    }
   ],
   "source": [
    "# target array\n",
    "x[1]"
   ]
  },
  {
   "cell_type": "code",
   "execution_count": 9,
   "metadata": {
    "collapsed": true
   },
   "outputs": [],
   "source": [
    "# create classification dataset and assign resulting tuple to variables\n",
    "features, targets = datasets.make_classification(\n",
    "    n_samples=50, \n",
    "    n_features=2,\n",
    "    n_classes=2,\n",
    "    n_clusters_per_class=2,\n",
    "    n_informative=2, \n",
    "    n_redundant=0,\n",
    "    random_state=6)"
   ]
  },
  {
   "cell_type": "code",
   "execution_count": 10,
   "metadata": {
    "collapsed": false
   },
   "outputs": [
    {
     "data": {
      "text/plain": [
       "array([[ 1.05514541,  0.31071535],\n",
       "       [-0.78738232,  0.16983718],\n",
       "       [ 0.68687892,  1.94116398],\n",
       "       [ 1.21494019, -1.48642746],\n",
       "       [-1.46691727,  0.3105259 ],\n",
       "       [-2.23156007,  0.1368863 ],\n",
       "       [ 0.91208998, -1.89292213],\n",
       "       [ 0.38965236,  0.02799635],\n",
       "       [ 1.1450313 , -1.99864078],\n",
       "       [ 0.28644451, -0.2461199 ]])"
      ]
     },
     "execution_count": 10,
     "metadata": {},
     "output_type": "execute_result"
    }
   ],
   "source": [
    "# features from created classification dataset\n",
    "features[:10]"
   ]
  },
  {
   "cell_type": "code",
   "execution_count": 11,
   "metadata": {
    "collapsed": false
   },
   "outputs": [
    {
     "data": {
      "text/plain": [
       "array([1, 1, 1, 1, 0, 0, 1, 1, 1, 1, 1, 0, 0, 0, 0, 0, 1, 1, 1, 1, 1, 1, 1,\n",
       "       1, 1, 0, 0, 0, 0, 0, 0, 0, 0, 0, 0, 1, 0, 1, 0, 0, 1, 0, 0, 0, 0, 1,\n",
       "       1, 1, 0, 1])"
      ]
     },
     "execution_count": 11,
     "metadata": {},
     "output_type": "execute_result"
    }
   ],
   "source": [
    "# targets from created classification dataset\n",
    "targets[:100]"
   ]
  },
  {
   "cell_type": "code",
   "execution_count": 12,
   "metadata": {
    "collapsed": false
   },
   "outputs": [
    {
     "data": {
      "image/png": "[encoded data removed]",
      "text/plain": [
       "<matplotlib.figure.Figure at 0x7f0758b095d0>"
      ]
     },
     "metadata": {},
     "output_type": "display_data"
    }
   ],
   "source": [
    "# plot features group coloured by targets\n",
    "plt.plot(features[np.where((targets==0)), 0], features[np.where((targets==0)), 1], 'k.', markersize=3, c='b')\n",
    "plt.plot(features[np.where((targets==1)), 0], features[np.where((targets==1)), 1], 'k.', markersize=3, c='r')\n",
    "plt.show()  "
   ]
  },
  {
   "cell_type": "markdown",
   "metadata": {},
   "source": [
    "### Create Blob Dataset (unsupervised clustering)"
   ]
  },
  {
   "cell_type": "code",
   "execution_count": 13,
   "metadata": {
    "collapsed": true
   },
   "outputs": [],
   "source": [
    "features, targets = datasets.make_blobs(\n",
    "    n_samples=1000, \n",
    "    centers=2, \n",
    "    n_features=2,\n",
    "    random_state=14)"
   ]
  },
  {
   "cell_type": "code",
   "execution_count": 14,
   "metadata": {
    "collapsed": false
   },
   "outputs": [
    {
     "data": {
      "text/plain": [
       "array([[  0.24683362,   4.3565355 ],\n",
       "       [  8.0018094 , -10.5547771 ],\n",
       "       [  7.45167712,  -8.99463676],\n",
       "       ..., \n",
       "       [ -1.02715332,   4.53233602],\n",
       "       [  0.63937675,   5.59387985],\n",
       "       [  7.49178074,  -9.22554809]])"
      ]
     },
     "execution_count": 14,
     "metadata": {},
     "output_type": "execute_result"
    }
   ],
   "source": [
    "features"
   ]
  },
  {
   "cell_type": "code",
   "execution_count": 15,
   "metadata": {
    "collapsed": false
   },
   "outputs": [
    {
     "data": {
      "text/plain": [
       "array([0, 1, 1, 0, 0, 0, 1, 1, 0, 1, 0, 0, 1, 0, 0, 0, 0, 0, 0, 0, 1, 0, 0,\n",
       "       1, 0, 0, 1, 1, 1, 1, 0, 1, 0, 0, 0, 1, 0, 0, 0, 1, 0, 0, 0, 0, 0, 1,\n",
       "       1, 1, 1, 0, 0, 1, 1, 0, 0, 1, 1, 0, 1, 0, 1, 1, 0, 0, 1, 1, 0, 1, 1,\n",
       "       1, 0, 1, 0, 1, 0, 0, 1, 1, 1, 1, 1, 0, 1, 1, 1, 0, 1, 1, 0, 1, 1, 1,\n",
       "       1, 1, 0, 0, 0, 1, 1, 1])"
      ]
     },
     "execution_count": 15,
     "metadata": {},
     "output_type": "execute_result"
    }
   ],
   "source": [
    "targets[:100]"
   ]
  },
  {
   "cell_type": "code",
   "execution_count": 16,
   "metadata": {
    "collapsed": false
   },
   "outputs": [
    {
     "data": {
      "image/png": "[encoded data removed]",
      "text/plain": [
       "<matplotlib.figure.Figure at 0x7f0758b09250>"
      ]
     },
     "metadata": {},
     "output_type": "display_data"
    }
   ],
   "source": [
    "plt.plot(features[np.where((targets==0)), 0], features[np.where((targets==0)), 1], 'k.', markersize=3, c='b')\n",
    "plt.plot(features[np.where((targets==1)), 0], features[np.where((targets==1)), 1], 'k.', markersize=3, c='r')\n",
    "plt.show()  "
   ]
  },
  {
   "cell_type": "markdown",
   "metadata": {},
   "source": [
    "### Create Regression Dataset"
   ]
  },
  {
   "cell_type": "code",
   "execution_count": 17,
   "metadata": {
    "collapsed": true
   },
   "outputs": [],
   "source": [
    "features, targets = datasets.make_regression(\n",
    "    n_samples=25, \n",
    "    n_features=2, \n",
    "    n_informative=2, \n",
    "    n_targets=1, \n",
    "    bias=0.0,\n",
    "    effective_rank=None, \n",
    "    tail_strength=0.5, \n",
    "    noise=0.0,\n",
    "    shuffle=True, \n",
    "    coef=False, \n",
    "    random_state=1)"
   ]
  },
  {
   "cell_type": "code",
   "execution_count": 19,
   "metadata": {
    "collapsed": false
   },
   "outputs": [
    {
     "data": {
      "text/plain": [
       "array([[ 0.58281521,  0.04221375],\n",
       "       [-0.7612069 ,  1.74481176],\n",
       "       [-0.39675353, -0.69166075],\n",
       "       [-2.06014071,  1.46210794],\n",
       "       [ 0.2344157 , -1.11731035],\n",
       "       [-0.38405435, -0.3224172 ],\n",
       "       [-0.0126646 , -0.67124613],\n",
       "       [ 0.53035547, -0.26788808],\n",
       "       [-0.87785842, -0.17242821],\n",
       "       [ 2.10025514,  0.19091548]])"
      ]
     },
     "execution_count": 19,
     "metadata": {},
     "output_type": "execute_result"
    }
   ],
   "source": [
    "features[:10]"
   ]
  },
  {
   "cell_type": "code",
   "execution_count": 20,
   "metadata": {
    "collapsed": false
   },
   "outputs": [
    {
     "data": {
      "text/plain": [
       "array([  11.82583287,  147.16195961,  -67.93912216,  103.76538761,\n",
       "        -97.71540802,  -34.40700784,  -60.81461022,  -16.91001433,\n",
       "        -27.64552992,   46.1205368 ,  -62.46574165,  160.14807672,\n",
       "        -83.69309194,  138.33356806,   46.54075584,   19.34016427,\n",
       "        -73.69875289,  -44.2314538 ,  -23.96638912,   -4.16709651,\n",
       "         87.30422591,   25.39384118,  -29.53311347,   88.35790444,\n",
       "         71.98397048])"
      ]
     },
     "execution_count": 20,
     "metadata": {},
     "output_type": "execute_result"
    }
   ],
   "source": [
    "targets[:100]"
   ]
  },
  {
   "cell_type": "code",
   "execution_count": 21,
   "metadata": {
    "collapsed": false
   },
   "outputs": [
    {
     "data": {
      "image/png": "[encoded data removed]",
      "text/plain": [
       "<matplotlib.figure.Figure at 0x7f0755046710>"
      ]
     },
     "metadata": {},
     "output_type": "display_data"
    }
   ],
   "source": [
    "# plot features & targets\n",
    "plt.plot(features[:, 0], targets[:], 'k.', markersize=3, color='b')\n",
    "plt.plot(features[:, 1], targets, 'k.', markersize=3, color='r')\n",
    "plt.show()"
   ]
  },
  {
   "cell_type": "code",
   "execution_count": 22,
   "metadata": {
    "collapsed": false
   },
   "outputs": [
    {
     "data": {
      "image/png": "[encoded data removed]",
      "text/plain": [
       "<matplotlib.figure.Figure at 0x7f0754fce2d0>"
      ]
     },
     "metadata": {},
     "output_type": "display_data"
    }
   ],
   "source": [
    "# plot features\n",
    "plt.plot(features[:, 0], features[:, 1], 'k.', markersize=3, color='b')\n",
    "plt.show()"
   ]
  },
  {
   "cell_type": "code",
   "execution_count": null,
   "metadata": {
    "collapsed": true
   },
   "outputs": [],
   "source": []
  }
 ],
 "metadata": {
  "kernelspec": {
   "display_name": "Python 2",
   "language": "python",
   "name": "python2"
  },
  "language_info": {
   "codemirror_mode": {
    "name": "ipython",
    "version": 2
   },
   "file_extension": ".py",
   "mimetype": "text/x-python",
   "name": "python",
   "nbconvert_exporter": "python",
   "pygments_lexer": "ipython2",
   "version": "2.7.12"
  }
 },
 "nbformat": 4,
 "nbformat_minor": 0
}
